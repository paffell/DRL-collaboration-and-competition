{
 "cells": [
  {
   "cell_type": "markdown",
   "metadata": {},
   "source": [
    "# Collaboration and Competition\n",
    "\n",
    "---\n",
    "\n",
    "In this notebook, you will learn how to use the Unity ML-Agents environment for the third project of the [Deep Reinforcement Learning Nanodegree](https://www.udacity.com/course/deep-reinforcement-learning-nanodegree--nd893) program.\n",
    "\n",
    "### 1. Start the Environment\n",
    "\n",
    "We begin by importing the necessary packages.  If the code cell below returns an error, please revisit the project instructions to double-check that you have installed [Unity ML-Agents](https://github.com/Unity-Technologies/ml-agents/blob/master/docs/Installation.md) and [NumPy](http://www.numpy.org/)."
   ]
  },
  {
   "cell_type": "code",
   "execution_count": 1,
   "metadata": {},
   "outputs": [],
   "source": [
    "from unityagents import UnityEnvironment\n",
    "import numpy as np"
   ]
  },
  {
   "cell_type": "markdown",
   "metadata": {},
   "source": [
    "Next, we will start the environment!  **_Before running the code cell below_**, change the `file_name` parameter to match the location of the Unity environment that you downloaded.\n",
    "\n",
    "- **Mac**: `\"path/to/Tennis.app\"`\n",
    "- **Windows** (x86): `\"path/to/Tennis_Windows_x86/Tennis.exe\"`\n",
    "- **Windows** (x86_64): `\"path/to/Tennis_Windows_x86_64/Tennis.exe\"`\n",
    "- **Linux** (x86): `\"path/to/Tennis_Linux/Tennis.x86\"`\n",
    "- **Linux** (x86_64): `\"path/to/Tennis_Linux/Tennis.x86_64\"`\n",
    "- **Linux** (x86, headless): `\"path/to/Tennis_Linux_NoVis/Tennis.x86\"`\n",
    "- **Linux** (x86_64, headless): `\"path/to/Tennis_Linux_NoVis/Tennis.x86_64\"`\n",
    "\n",
    "For instance, if you are using a Mac, then you downloaded `Tennis.app`.  If this file is in the same folder as the notebook, then the line below should appear as follows:\n",
    "```\n",
    "env = UnityEnvironment(file_name=\"Tennis.app\")\n",
    "```"
   ]
  },
  {
   "cell_type": "code",
   "execution_count": 2,
   "metadata": {},
   "outputs": [
    {
     "name": "stderr",
     "output_type": "stream",
     "text": [
      "INFO:unityagents:\n",
      "'Academy' started successfully!\n",
      "Unity Academy name: Academy\n",
      "        Number of Brains: 1\n",
      "        Number of External Brains : 1\n",
      "        Lesson number : 0\n",
      "        Reset Parameters :\n",
      "\t\t\n",
      "Unity brain name: TennisBrain\n",
      "        Number of Visual Observations (per agent): 0\n",
      "        Vector Observation space type: continuous\n",
      "        Vector Observation space size (per agent): 8\n",
      "        Number of stacked Vector Observation: 3\n",
      "        Vector Action space type: continuous\n",
      "        Vector Action space size (per agent): 2\n",
      "        Vector Action descriptions: , \n"
     ]
    }
   ],
   "source": [
    "env = UnityEnvironment(file_name=\"Tennis_Windows_x86_64/Tennis.exe\")"
   ]
  },
  {
   "cell_type": "markdown",
   "metadata": {},
   "source": [
    "Environments contain **_brains_** which are responsible for deciding the actions of their associated agents. Here we check for the first brain available, and set it as the default brain we will be controlling from Python."
   ]
  },
  {
   "cell_type": "code",
   "execution_count": 3,
   "metadata": {},
   "outputs": [],
   "source": [
    "# get the default brain\n",
    "brain_name = env.brain_names[0]\n",
    "brain = env.brains[brain_name]"
   ]
  },
  {
   "cell_type": "markdown",
   "metadata": {},
   "source": [
    "### 2. Examine the State and Action Spaces\n",
    "\n",
    "In this environment, two agents control rackets to bounce a ball over a net. If an agent hits the ball over the net, it receives a reward of +0.1.  If an agent lets a ball hit the ground or hits the ball out of bounds, it receives a reward of -0.01.  Thus, the goal of each agent is to keep the ball in play.\n",
    "\n",
    "The observation space consists of 8 variables corresponding to the position and velocity of the ball and racket. Two continuous actions are available, corresponding to movement toward (or away from) the net, and jumping. \n",
    "\n",
    "Run the code cell below to print some information about the environment."
   ]
  },
  {
   "cell_type": "code",
   "execution_count": 4,
   "metadata": {},
   "outputs": [
    {
     "name": "stdout",
     "output_type": "stream",
     "text": [
      "Number of agents: 2\n",
      "Size of each action: 2\n",
      "There are 2 agents. Each observes a state with length: 24\n",
      "The state for the first agent looks like: [ 0.          0.          0.          0.          0.          0.\n",
      "  0.          0.          0.          0.          0.          0.\n",
      "  0.          0.          0.          0.         -6.65278625 -1.5\n",
      " -0.          0.          6.83172083  6.         -0.          0.        ]\n"
     ]
    }
   ],
   "source": [
    "# reset the environment\n",
    "env_info = env.reset(train_mode=True)[brain_name]\n",
    "\n",
    "# number of agents \n",
    "num_agents = len(env_info.agents)\n",
    "print('Number of agents:', num_agents)\n",
    "\n",
    "# size of each action\n",
    "action_size = brain.vector_action_space_size\n",
    "print('Size of each action:', action_size)\n",
    "\n",
    "# examine the state space \n",
    "states = env_info.vector_observations\n",
    "state_size = states.shape[1]\n",
    "print('There are {} agents. Each observes a state with length: {}'.format(states.shape[0], state_size))\n",
    "print('The state for the first agent looks like:', states[0])"
   ]
  },
  {
   "cell_type": "markdown",
   "metadata": {},
   "source": [
    "### 3. Take Random Actions in the Environment\n",
    "\n",
    "In the next code cell, you will learn how to use the Python API to control the agents and receive feedback from the environment.\n",
    "\n",
    "Once this cell is executed, you will watch the agents' performance, if they select actions at random with each time step.  A window should pop up that allows you to observe the agents.\n",
    "\n",
    "Of course, as part of the project, you'll have to change the code so that the agents are able to use their experiences to gradually choose better actions when interacting with the environment!"
   ]
  },
  {
   "cell_type": "code",
   "execution_count": 8,
   "metadata": {},
   "outputs": [
    {
     "name": "stdout",
     "output_type": "stream",
     "text": [
      "[[-1.         -0.23805768]\n",
      " [-0.39305013 -0.35071251]]\n",
      "[[-1.         -0.37193298]\n",
      " [ 0.64565795 -0.17140594]]\n",
      "[[ 0.81125813 -0.53165809]\n",
      " [ 0.32847601 -1.        ]]\n",
      "[[ 0.10730049  0.89951298]\n",
      " [-0.52142751 -1.        ]]\n",
      "[[-1.          0.20454508]\n",
      " [-0.7351611   0.80388335]]\n",
      "[[-1.  1.]\n",
      " [ 1. -1.]]\n",
      "[[-1.          0.17774314]\n",
      " [-1.         -0.03008113]]\n",
      "[[-1.          0.0771703 ]\n",
      " [-0.82667819  0.08236598]]\n",
      "[[ 0.19649416  0.07574836]\n",
      " [-1.         -0.3310108 ]]\n",
      "[[-1.         -1.        ]\n",
      " [ 1.          0.61804835]]\n",
      "[[0.19683872 0.7563338 ]\n",
      " [0.30409202 0.48589539]]\n",
      "[[-0.34243698  0.69362468]\n",
      " [-0.59217015 -0.31261587]]\n",
      "[[ 0.50938599 -0.18546876]\n",
      " [ 1.         -0.64288867]]\n",
      "[[-0.14586928 -0.54061386]\n",
      " [ 0.26504927 -0.19038468]]\n",
      "[[ 0.39047439  0.19353175]\n",
      " [-0.27063546 -0.72563283]]\n",
      "[[-0.04462745 -0.2355181 ]\n",
      " [ 0.6072732  -1.        ]]\n",
      "[[-0.33497137 -1.        ]\n",
      " [ 0.553773   -0.6160128 ]]\n",
      "[[-0.73763064 -0.80480102]\n",
      " [ 0.01945588  1.        ]]\n",
      "[[ 0.34223068 -1.        ]\n",
      " [-0.69353545 -1.        ]]\n",
      "[[-0.49805549 -0.11139961]\n",
      " [-0.12279797  0.21591836]]\n",
      "[[ 1.          1.        ]\n",
      " [-0.26533767  0.90944336]]\n",
      "[[-0.16924233  0.17393349]\n",
      " [-0.86088158  0.67550976]]\n",
      "[[-1.        -1.       ]\n",
      " [ 0.0041988  1.       ]]\n",
      "[[-1.          0.48938719]\n",
      " [-1.          1.        ]]\n",
      "[[-0.24460538 -0.8970885 ]\n",
      " [ 1.         -0.13089917]]\n",
      "[[ 1.          0.06811016]\n",
      " [-0.93216733  1.        ]]\n",
      "[[ 1.         -1.        ]\n",
      " [ 0.78837966  0.40398765]]\n",
      "[[ 0.95071012 -0.12604168]\n",
      " [ 1.         -1.        ]]\n",
      "[[-0.97685458 -0.45025933]\n",
      " [ 1.          0.29259162]]\n",
      "[[ 1.         -0.78780177]\n",
      " [ 0.56310955 -1.        ]]\n",
      "[[ 1.         -0.1204976 ]\n",
      " [-0.62909839  1.        ]]\n",
      "[[ 0.97986867  0.44896586]\n",
      " [-1.          0.23889164]]\n",
      "[[ 1.         -0.88967112]\n",
      " [-0.03353868 -1.        ]]\n",
      "[[ 0.84111058 -1.        ]\n",
      " [-0.41792256  1.        ]]\n",
      "[[-0.66444448  0.25341792]\n",
      " [ 0.01167571  0.10270105]]\n",
      "[[-0.0959588   1.        ]\n",
      " [-0.55543197 -0.6269599 ]]\n",
      "[[ 0.81453238 -0.73924886]\n",
      " [ 0.2688973   0.1096697 ]]\n",
      "[[ 1.          0.00645221]\n",
      " [-1.          0.32484792]]\n",
      "[[-0.28644468  0.30414312]\n",
      " [-0.29250652 -0.18230233]]\n",
      "[[ 0.15603419 -0.81080385]\n",
      " [-0.6080187   1.        ]]\n",
      "[[ 0.74049225 -0.44285185]\n",
      " [-0.11937499 -0.92777008]]\n",
      "[[ 1.          1.        ]\n",
      " [-0.28420456  0.15850419]]\n",
      "[[-0.454931   -0.31640342]\n",
      " [-0.59895194  0.52748823]]\n",
      "Score (max over agents) from episode 1: 0.10000000149011612\n",
      "[[-0.14692025 -0.88440573]\n",
      " [-0.56301916  1.        ]]\n",
      "[[ 0.08121963 -1.        ]\n",
      " [-1.          0.53146602]]\n",
      "[[-1.          0.10638082]\n",
      " [ 0.61647559 -0.80936042]]\n",
      "[[-0.23973002 -0.03286933]\n",
      " [-0.67541136  0.10082136]]\n",
      "[[-1.         -1.        ]\n",
      " [ 0.83496681  0.91324149]]\n",
      "[[ 1.         -1.        ]\n",
      " [ 1.          0.34892202]]\n",
      "[[-0.67894862  0.27038053]\n",
      " [-0.0839531  -1.        ]]\n",
      "[[-0.76225776 -0.88988919]\n",
      " [ 0.11802459  0.87878574]]\n",
      "[[-0.36658836  0.30502521]\n",
      " [-0.41502976  1.        ]]\n",
      "[[ 1.         -0.15970263]\n",
      " [ 0.44511038 -0.83620926]]\n",
      "[[ 0.41489405 -1.        ]\n",
      " [-0.32426732 -0.49353361]]\n",
      "[[-0.75902554  0.25818892]\n",
      " [ 0.56806638  1.        ]]\n",
      "[[ 0.35941859 -1.        ]\n",
      " [-0.93112736  1.        ]]\n",
      "[[-0.43624374 -1.        ]\n",
      " [-1.         -1.        ]]\n",
      "Score (max over agents) from episode 2: 0.0\n",
      "[[ 0.61247152 -0.06960119]\n",
      " [ 1.          0.71379751]]\n",
      "[[ 0.68193098 -0.60029982]\n",
      " [-0.42289622  0.10264164]]\n",
      "[[-0.26834164  1.        ]\n",
      " [-0.50080578 -1.        ]]\n",
      "[[-0.4793371   0.99971461]\n",
      " [ 1.         -0.35879975]]\n",
      "[[-1.          1.        ]\n",
      " [-0.78836394  0.28148894]]\n",
      "[[-0.29976339  1.        ]\n",
      " [ 0.9412657   1.        ]]\n",
      "[[ 0.84477577  1.        ]\n",
      " [-0.69087896 -1.        ]]\n",
      "[[-0.47305504  0.0549242 ]\n",
      " [ 1.          0.74470548]]\n",
      "[[ 0.52873292 -0.14589304]\n",
      " [-0.27688669  1.        ]]\n",
      "[[ 1.          1.        ]\n",
      " [ 0.14275895 -1.        ]]\n",
      "[[-1.         -1.        ]\n",
      " [ 0.36115939  0.02874116]]\n",
      "[[ 0.37054626 -1.        ]\n",
      " [-0.69298457  1.        ]]\n",
      "[[ 1.          1.        ]\n",
      " [-0.30406151 -0.43549814]]\n",
      "[[-0.76805196  0.59118053]\n",
      " [ 0.92617487  1.        ]]\n",
      "Score (max over agents) from episode 3: 0.0\n",
      "[[ 1.         -0.60581946]\n",
      " [ 0.41546016  0.66571764]]\n",
      "[[-1.         -1.        ]\n",
      " [ 0.00621938 -0.40575131]]\n",
      "[[-0.91444948  0.51349561]\n",
      " [ 0.92539049  0.78647056]]\n",
      "[[ 0.65095065 -0.89141853]\n",
      " [-0.96448946  1.        ]]\n",
      "[[ 0.3860853   0.97017298]\n",
      " [-1.         -0.99646018]]\n",
      "[[-0.04016502 -0.74849631]\n",
      " [-0.30874775  0.77633698]]\n",
      "[[-0.32076222  0.71484885]\n",
      " [ 0.49025029 -0.0945285 ]]\n",
      "[[-0.36449628  0.55347598]\n",
      " [ 0.27684422 -0.12989889]]\n",
      "[[ 1.         -0.87714129]\n",
      " [-1.          0.92485129]]\n",
      "[[-0.1243208  -0.14881397]\n",
      " [ 0.69310244  0.23048795]]\n",
      "[[-0.78157168 -1.        ]\n",
      " [-0.76849351 -1.        ]]\n",
      "[[ 0.41588441 -1.        ]\n",
      " [-0.12904628  1.        ]]\n",
      "[[-1.          0.14721568]\n",
      " [-1.          0.09793538]]\n",
      "[[ 0.83676693 -0.1663009 ]\n",
      " [ 0.66138697 -0.1256373 ]]\n",
      "Score (max over agents) from episode 4: 0.0\n",
      "[[ 1.         -1.        ]\n",
      " [-0.77916129 -1.        ]]\n",
      "[[1.         0.1774109 ]\n",
      " [0.31235371 1.        ]]\n",
      "[[ 0.6227525  -0.5040253 ]\n",
      " [ 0.10721533 -0.00092234]]\n",
      "[[-1.         -0.11306236]\n",
      " [ 0.86880619  1.        ]]\n",
      "[[-0.22357357 -0.94125607]\n",
      " [-0.81488425  0.22020426]]\n",
      "[[-0.92558296  0.74032589]\n",
      " [ 1.         -0.07244239]]\n",
      "[[-0.1725792  -0.44379303]\n",
      " [ 0.39206231  1.        ]]\n",
      "[[-1.         -0.45612427]\n",
      " [-0.18267132 -1.        ]]\n",
      "[[-0.27207306  0.67584245]\n",
      " [-0.38271487  0.31837574]]\n",
      "[[-1.          0.14045075]\n",
      " [ 0.50764285  1.        ]]\n",
      "[[ 0.60458124 -0.84356895]\n",
      " [-0.76168893 -0.72199619]]\n",
      "[[-1.         -0.96514453]\n",
      " [-0.67508314  0.06511273]]\n",
      "[[ 0.02655588  0.63073501]\n",
      " [ 0.43257424 -1.        ]]\n",
      "[[ 0.09458301 -1.        ]\n",
      " [-1.          0.54784224]]\n",
      "Score (max over agents) from episode 5: 0.0\n"
     ]
    }
   ],
   "source": [
    "for i in range(1, 6):                                      # play game for 5 episodes\n",
    "    env_info = env.reset(train_mode=False)[brain_name]     # reset the environment    \n",
    "    states = env_info.vector_observations                  # get the current state (for each agent)\n",
    "    scores = np.zeros(num_agents)                          # initialize the score (for each agent)\n",
    "    while True:\n",
    "        actions = np.random.randn(num_agents, action_size) # select an action (for each agent)\n",
    "        actions = np.clip(actions, -1, 1)                  # all actions between -1 and 1\n",
    "        print(actions)\n",
    "        env_info = env.step(actions)[brain_name]           # send all actions to tne environment\n",
    "        next_states = env_info.vector_observations         # get next state (for each agent)\n",
    "        rewards = env_info.rewards                         # get reward (for each agent)\n",
    "        dones = env_info.local_done                        # see if episode finished\n",
    "        scores += env_info.rewards                         # update the score (for each agent)\n",
    "        states = next_states                               # roll over states to next time step\n",
    "        if np.any(dones):                                  # exit loop if episode finished\n",
    "            break\n",
    "    print('Score (max over agents) from episode {}: {}'.format(i, np.max(scores)))"
   ]
  },
  {
   "cell_type": "markdown",
   "metadata": {},
   "source": [
    "When finished, you can close the environment."
   ]
  },
  {
   "cell_type": "code",
   "execution_count": null,
   "metadata": {},
   "outputs": [],
   "source": [
    "env.close()"
   ]
  },
  {
   "cell_type": "markdown",
   "metadata": {},
   "source": [
    "### 4. Training an Agent\n",
    "\n",
    "Selected Method: DDPG"
   ]
  },
  {
   "cell_type": "code",
   "execution_count": 5,
   "metadata": {},
   "outputs": [],
   "source": [
    "from ddpg_agent import Agent\n",
    "from collections import deque\n",
    "import matplotlib.pyplot as plt\n",
    "import torch"
   ]
  },
  {
   "cell_type": "code",
   "execution_count": 10,
   "metadata": {
    "scrolled": false
   },
   "outputs": [
    {
     "name": "stdout",
     "output_type": "stream",
     "text": [
      "Episode 100\t Score: 1.15, \tAverage Score: 0.430"
     ]
    },
    {
     "data": {
      "image/png": "[encoded data removed]",
      "text/plain": [
       "<Figure size 432x288 with 1 Axes>"
      ]
     },
     "metadata": {
      "needs_background": "light"
     },
     "output_type": "display_data"
    },
    {
     "name": "stdout",
     "output_type": "stream",
     "text": [
      "Episode 106\t Score: 1.07, \tAverage Score: 0.51\n",
      "Environment solved in 106 episodes!\tAverage Score: 0.51\n"
     ]
    },
    {
     "data": {
      "image/png": "[encoded data removed]",
      "text/plain": [
       "<Figure size 432x288 with 1 Axes>"
      ]
     },
     "metadata": {
      "needs_background": "light"
     },
     "output_type": "display_data"
    }
   ],
   "source": [
    "agent = Agent(state_size=state_size, action_size=action_size, random_seed=2)\n",
    "\n",
    "def ddpg(n_episodes=1000, max_t=300, print_every=100):\n",
    "    scores_deque = deque(maxlen=print_every)\n",
    "    scores = []\n",
    "    for i_episode in range(1, n_episodes+1):\n",
    "        env_info = env.reset(train_mode=True)[brain_name]\n",
    "        states = env_info.vector_observations\n",
    "        agent.reset()\n",
    "        score = 0\n",
    "        for t in range(max_t):\n",
    "            actions = agent.act(states)\n",
    "            env_info = env.step(actions)[brain_name]        # send the action to the environment\n",
    "#             print(actions)\n",
    "            next_states = env_info.vector_observations   # get the next state\n",
    "#             print(next_states)\n",
    "            rewards = env_info.rewards                # get the reward\n",
    "#             print(rewards)\n",
    "            dones = env_info.local_done                  # see if episode has finished\n",
    "#             print(dones)\n",
    "            agent.step(states, actions, rewards, next_states, dones)\n",
    "            states = next_states\n",
    "            score += sum(rewards)\n",
    "#             print(actions)\n",
    "#             if dones:\n",
    "#                 break \n",
    "        scores_deque.append(score)\n",
    "        scores.append(score)\n",
    "        print('\\rEpisode {}\\t Score: {:.2f}, \\tAverage Score: {:.2f}'.format(i_episode, score, np.mean(scores_deque)), end=\"\")\n",
    "        torch.save(agent.actor_local.state_dict(), 'checkpoint_actor.pth')\n",
    "        torch.save(agent.critic_local.state_dict(), 'checkpoint_critic.pth')\n",
    "        if i_episode % print_every == 0:\n",
    "            print('\\rEpisode {}\\t Score: {:.2f}, \\tAverage Score: {:.2f}'.format(i_episode, score, np.mean(scores_deque)), end=\"\")\n",
    "            fig = plt.figure()\n",
    "            ax = fig.add_subplot(111)\n",
    "            plt.plot(np.arange(1, len(scores)+1), scores)\n",
    "            plt.ylabel('Score')\n",
    "            plt.xlabel('Episode #')\n",
    "            plt.show()\n",
    "        if np.mean(scores_deque)>=0.5:\n",
    "            print('\\nEnvironment solved in {:d} episodes!\\tAverage Score: {:.2f}'.format(i_episode, np.mean(scores_deque)))\n",
    "            torch.save(agent.actor_local.state_dict(), 'checkpoint_actor.pth')\n",
    "            torch.save(agent.critic_local.state_dict(), 'checkpoint_critic.pth')\n",
    "            break\n",
    "            \n",
    "    return scores\n",
    "\n",
    "scores = ddpg()\n",
    "\n",
    "fig = plt.figure()\n",
    "ax = fig.add_subplot(111)\n",
    "plt.plot(np.arange(1, len(scores)+1), scores)\n",
    "plt.ylabel('Score')\n",
    "plt.xlabel('Episode #')\n",
    "plt.show()"
   ]
  },
  {
   "cell_type": "markdown",
   "metadata": {},
   "source": [
    "### 5. Watch the Agent"
   ]
  },
  {
   "cell_type": "code",
   "execution_count": 11,
   "metadata": {},
   "outputs": [
    {
     "ename": "UnityActionException",
     "evalue": "The episode is completed. Reset the environment with 'reset()'",
     "output_type": "error",
     "traceback": [
      "\u001b[1;31m---------------------------------------------------------------------------\u001b[0m",
      "\u001b[1;31mUnityActionException\u001b[0m                      Traceback (most recent call last)",
      "\u001b[1;32m<ipython-input-11-b307220f9762>\u001b[0m in \u001b[0;36m<module>\u001b[1;34m\u001b[0m\n\u001b[0;32m     15\u001b[0m     \u001b[0mactions\u001b[0m \u001b[1;33m=\u001b[0m \u001b[0magent\u001b[0m\u001b[1;33m.\u001b[0m\u001b[0mact\u001b[0m\u001b[1;33m(\u001b[0m\u001b[0mstates\u001b[0m\u001b[1;33m)\u001b[0m                        \u001b[1;31m# select an action (for each agent)\u001b[0m\u001b[1;33m\u001b[0m\u001b[1;33m\u001b[0m\u001b[0m\n\u001b[0;32m     16\u001b[0m     \u001b[0mactions\u001b[0m \u001b[1;33m=\u001b[0m \u001b[0mnp\u001b[0m\u001b[1;33m.\u001b[0m\u001b[0mclip\u001b[0m\u001b[1;33m(\u001b[0m\u001b[0mactions\u001b[0m\u001b[1;33m,\u001b[0m \u001b[1;33m-\u001b[0m\u001b[1;36m1\u001b[0m\u001b[1;33m,\u001b[0m \u001b[1;36m1\u001b[0m\u001b[1;33m)\u001b[0m                  \u001b[1;31m# all actions between -1 and 1\u001b[0m\u001b[1;33m\u001b[0m\u001b[1;33m\u001b[0m\u001b[0m\n\u001b[1;32m---> 17\u001b[1;33m     \u001b[0menv_info\u001b[0m \u001b[1;33m=\u001b[0m \u001b[0menv\u001b[0m\u001b[1;33m.\u001b[0m\u001b[0mstep\u001b[0m\u001b[1;33m(\u001b[0m\u001b[0mactions\u001b[0m\u001b[1;33m)\u001b[0m\u001b[1;33m[\u001b[0m\u001b[0mbrain_name\u001b[0m\u001b[1;33m]\u001b[0m           \u001b[1;31m# send all actions to tne environment\u001b[0m\u001b[1;33m\u001b[0m\u001b[1;33m\u001b[0m\u001b[0m\n\u001b[0m\u001b[0;32m     18\u001b[0m     \u001b[0mnext_states\u001b[0m \u001b[1;33m=\u001b[0m \u001b[0menv_info\u001b[0m\u001b[1;33m.\u001b[0m\u001b[0mvector_observations\u001b[0m         \u001b[1;31m# get next state (for each agent)\u001b[0m\u001b[1;33m\u001b[0m\u001b[1;33m\u001b[0m\u001b[0m\n\u001b[0;32m     19\u001b[0m     \u001b[0mrewards\u001b[0m \u001b[1;33m=\u001b[0m \u001b[0menv_info\u001b[0m\u001b[1;33m.\u001b[0m\u001b[0mrewards\u001b[0m                         \u001b[1;31m# get reward (for each agent)\u001b[0m\u001b[1;33m\u001b[0m\u001b[1;33m\u001b[0m\u001b[0m\n",
      "\u001b[1;32mc:\\users\\cz010145\\pycharmprojects\\deep-reinforcement-learning\\python\\unityagents\\environment.py\u001b[0m in \u001b[0;36mstep\u001b[1;34m(self, vector_action, memory, text_action)\u001b[0m\n\u001b[0;32m    380\u001b[0m             \u001b[1;32mraise\u001b[0m \u001b[0mUnityEnvironmentException\u001b[0m\u001b[1;33m(\u001b[0m\u001b[1;34m\"No Unity environment is loaded.\"\u001b[0m\u001b[1;33m)\u001b[0m\u001b[1;33m\u001b[0m\u001b[1;33m\u001b[0m\u001b[0m\n\u001b[0;32m    381\u001b[0m         \u001b[1;32melif\u001b[0m \u001b[0mself\u001b[0m\u001b[1;33m.\u001b[0m\u001b[0m_global_done\u001b[0m\u001b[1;33m:\u001b[0m\u001b[1;33m\u001b[0m\u001b[1;33m\u001b[0m\u001b[0m\n\u001b[1;32m--> 382\u001b[1;33m             \u001b[1;32mraise\u001b[0m \u001b[0mUnityActionException\u001b[0m\u001b[1;33m(\u001b[0m\u001b[1;34m\"The episode is completed. Reset the environment with 'reset()'\"\u001b[0m\u001b[1;33m)\u001b[0m\u001b[1;33m\u001b[0m\u001b[1;33m\u001b[0m\u001b[0m\n\u001b[0m\u001b[0;32m    383\u001b[0m         \u001b[1;32melif\u001b[0m \u001b[0mself\u001b[0m\u001b[1;33m.\u001b[0m\u001b[0mglobal_done\u001b[0m \u001b[1;32mis\u001b[0m \u001b[1;32mNone\u001b[0m\u001b[1;33m:\u001b[0m\u001b[1;33m\u001b[0m\u001b[1;33m\u001b[0m\u001b[0m\n\u001b[0;32m    384\u001b[0m             raise UnityActionException(\n",
      "\u001b[1;31mUnityActionException\u001b[0m: The episode is completed. Reset the environment with 'reset()'"
     ]
    }
   ],
   "source": [
    "from ddpg_agent import Agent\n",
    "from collections import deque\n",
    "import matplotlib.pyplot as plt\n",
    "import torch\n",
    "\n",
    "env_info = env.reset(train_mode=False)[brain_name]     # reset the environment    \n",
    "states = env_info.vector_observations                  # get the current state (for each agent)\n",
    "scores = np.zeros(num_agents)                          # initialize the score (for each agent)\n",
    "agent = Agent(state_size=state_size, action_size=action_size, random_seed=2)\n",
    "# load the weights from file\n",
    "agent.actor_local.load_state_dict(torch.load('checkpoint_actor.pth'))\n",
    "agent.critic_local.load_state_dict(torch.load('checkpoint_critic.pth'))\n",
    "\n",
    "while True:\n",
    "    actions = agent.act(states)                        # select an action (for each agent)\n",
    "    actions = np.clip(actions, -1, 1)                  # all actions between -1 and 1\n",
    "    env_info = env.step(actions)[brain_name]           # send all actions to tne environment\n",
    "    next_states = env_info.vector_observations         # get next state (for each agent)\n",
    "    rewards = env_info.rewards                         # get reward (for each agent)\n",
    "    dones = env_info.local_done                        # see if episode finished\n",
    "    scores += env_info.rewards                         # update the score (for each agent)\n",
    "    states = next_states                               # roll over states to next time step\n",
    "#     if np.any(dones):                                  # exit loop if episode finished\n",
    "#         break\n",
    "print('Total score (averaged over agents) this episode: {}'.format(np.mean(scores)))"
   ]
  },
  {
   "cell_type": "code",
   "execution_count": null,
   "metadata": {},
   "outputs": [],
   "source": []
  }
 ],
 "metadata": {
  "kernelspec": {
   "display_name": "Python 3",
   "language": "python",
   "name": "python3"
  },
  "language_info": {
   "codemirror_mode": {
    "name": "ipython",
    "version": 3
   },
   "file_extension": ".py",
   "mimetype": "text/x-python",
   "name": "python",
   "nbconvert_exporter": "python",
   "pygments_lexer": "ipython3",
   "version": "3.6.9"
  }
 },
 "nbformat": 4,
 "nbformat_minor": 2
}
